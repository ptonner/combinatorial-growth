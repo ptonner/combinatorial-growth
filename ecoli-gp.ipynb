{
 "cells": [
  {
   "cell_type": "code",
   "execution_count": null,
   "metadata": {
    "collapsed": false
   },
   "outputs": [],
   "source": [
    "import gpfanova, scipy\n",
    "import GPy\n",
    "import matplotlib as mpl\n",
    "from GPy.kern import RBF\n",
    "from derivative import RBFDerivative\n",
    "import pandas as pd"
   ]
  },
  {
   "cell_type": "code",
   "execution_count": null,
   "metadata": {
    "collapsed": false
   },
   "outputs": [],
   "source": [
    "%pylab"
   ]
  },
  {
   "cell_type": "code",
   "execution_count": null,
   "metadata": {
    "collapsed": true
   },
   "outputs": [],
   "source": [
    "%matplotlib inline"
   ]
  },
  {
   "cell_type": "code",
   "execution_count": null,
   "metadata": {
    "collapsed": false
   },
   "outputs": [],
   "source": [
    "melt = pd.read_csv(\"data/normalized/lund/propionicAcid-ecoli/tidy.csv\")"
   ]
  },
  {
   "cell_type": "code",
   "execution_count": null,
   "metadata": {
    "collapsed": false
   },
   "outputs": [],
   "source": [
    "# melt = melt[melt.propionicAcidmM>0]\n",
    "\n",
    "xgp = melt[['time','pH','propionicAcidmM']]\n",
    "ygp = melt.od\n",
    "\n",
    "# xgp.propionicAcidmM = np.log10(xgp.propionicAcidmM)\n",
    "\n",
    "xgp = xgp.values\n",
    "ygp = ygp.values[:,None]\n",
    "\n",
    "step = 3\n",
    "\n",
    "xgp = xgp[::step,:]\n",
    "ygp = ygp[::step,:]\n",
    "\n",
    "# select = np.isnan(ygp)\n",
    "\n",
    "# ygp = ygp[~select][:,None]\n",
    "# xgp = xgp[~select,:]\n",
    "\n",
    "plt.figure(figsize=(20,8))\n",
    "\n",
    "plt.subplot(211)\n",
    "plt.plot(xgp)\n",
    "\n",
    "plt.subplot(212)\n",
    "plt.plot(ygp)"
   ]
  },
  {
   "cell_type": "code",
   "execution_count": null,
   "metadata": {
    "collapsed": false
   },
   "outputs": [],
   "source": [
    "xgp.shape, ygp.shape"
   ]
  },
  {
   "cell_type": "code",
   "execution_count": null,
   "metadata": {
    "collapsed": false
   },
   "outputs": [],
   "source": [
    "#kern = RBF(1, name='mean') + RBF(2,active_dims=[0,1],name='pH',ARD=True) + RBF(2,active_dims=[0,2],name='PA',ARD=True) + RBF(3,name='interaction',ARD=True)\n",
    "kern = RBF(3, ARD=True)\n",
    "\n",
    "kern"
   ]
  },
  {
   "cell_type": "code",
   "execution_count": null,
   "metadata": {
    "collapsed": false
   },
   "outputs": [],
   "source": [
    "gp = GPy.models.GPRegression(xgp,ygp,kern)\n",
    "gp"
   ]
  },
  {
   "cell_type": "code",
   "execution_count": null,
   "metadata": {
    "collapsed": false
   },
   "outputs": [],
   "source": [
    "gp.optimize()\n",
    "gp"
   ]
  },
  {
   "cell_type": "code",
   "execution_count": null,
   "metadata": {
    "collapsed": false
   },
   "outputs": [],
   "source": [
    "xpred = np.zeros((50,3))\n",
    "xpred[:,0] = np.linspace(melt.time.min(),melt.time.max())"
   ]
  },
  {
   "cell_type": "code",
   "execution_count": null,
   "metadata": {
    "collapsed": false
   },
   "outputs": [],
   "source": [
    "\n",
    "plt.figure(figsize=(np.unique(xgp[:,2]).shape[0]*5./3, 5*3))\n",
    "\n",
    "for i,ph in enumerate(np.unique(xgp[:,1])):\n",
    "    for j,pa in enumerate(np.unique(xgp[:,2])):\n",
    "        \n",
    "        plt.subplot(3, np.unique(xgp[:,2]).shape[0]/3+1, j + 1)\n",
    "        \n",
    "        plt.title(\"%.2lf mM PA\"%((pa)))\n",
    "        \n",
    "        xpred[:,1:] = ph, pa\n",
    "\n",
    "        mu,cov = gp.predict_noiseless(xpred,full_cov=True)\n",
    "        mu = mu[:,0]\n",
    "\n",
    "        std = np.sqrt(cov.diagonal())\n",
    "        \n",
    "        color = plt.get_cmap()(1.*(ph-4)/3)\n",
    "\n",
    "        plt.plot(xpred[:,0],mu, label = ph,c=color)\n",
    "        plt.fill_between(xpred[:,0], mu-2*std, mu+2*std,alpha=.1,color=color)\n",
    "        \n",
    "        #select = g.get_group((np.round(10**ph,2),pa)).index\n",
    "        #plt.scatter(x,np.nanmean(y[:,select],1),c=color,marker='x',s=20)\n",
    "        \n",
    "        #plt.ylim(-1.2,4.4)\n",
    "        \n",
    "plt.subplot(3, np.unique(xgp[:,2]).shape[0]/3+1,1)\n",
    "plt.legend(loc='best')\n",
    "plt.tight_layout()\n",
    "# plt.savefig(\"figures/lund/ecoli-gp-byPA.pdf\",bbox_inches='tight')"
   ]
  },
  {
   "cell_type": "code",
   "execution_count": null,
   "metadata": {
    "collapsed": false
   },
   "outputs": [],
   "source": [
    "plt.figure(figsize=(np.unique(xgp[:,1]).shape[0]*5./3, 5*3))\n",
    "\n",
    "for i,ph in enumerate(np.unique(xgp[:,1])):\n",
    "    for j,pa in enumerate(np.unique(xgp[:,2])):\n",
    "        \n",
    "        plt.subplot(3, np.unique(xgp[:,1]).shape[0]/3+1, i + 1)\n",
    "        \n",
    "        plt.title(\"pH=%.2lf\"%(ph))\n",
    "        \n",
    "        xpred[:,1:] = ph, pa\n",
    "\n",
    "        mu,cov = gp.predict_noiseless(xpred,full_cov=True)\n",
    "        mu = mu[:,0]\n",
    "\n",
    "        std = np.sqrt(cov.diagonal())\n",
    "        \n",
    "        color = plt.get_cmap()(pa/50)\n",
    "\n",
    "        plt.plot(xpred[:,0],mu, label = np.round(pa,2),c=color)\n",
    "        plt.fill_between(xpred[:,0], mu-2*std, mu+2*std,alpha=.1,color=color)\n",
    "        \n",
    "        #select = g.get_group((np.round(10**ph,2),pa)).index\n",
    "        #plt.scatter(x,np.nanmean(y[:,select],1),c=color,marker='x',s=20)\n",
    "        \n",
    "        plt.ylim(-1.2,4.4)\n",
    "        \n",
    "plt.subplot(3, np.unique(xgp[:,1]).shape[0]/3+1,1)\n",
    "plt.legend(loc='best')\n",
    "plt.tight_layout()\n",
    "plt.savefig(\"figures/lund/ecoli-gp-byPA.pdf\",bbox_inches='tight')"
   ]
  },
  {
   "cell_type": "markdown",
   "metadata": {},
   "source": [
    "## Outlier detection "
   ]
  },
  {
   "cell_type": "code",
   "execution_count": null,
   "metadata": {
    "collapsed": false
   },
   "outputs": [],
   "source": [
    "g = melt.groupby(['pH', 'propionicAcidmM','rep'])\n",
    "len(g.groups.keys())"
   ]
  },
  {
   "cell_type": "code",
   "execution_count": null,
   "metadata": {
    "collapsed": false
   },
   "outputs": [],
   "source": [
    "ll = []\n",
    "\n",
    "for k,temp in g:\n",
    "    \n",
    "    temp.sort_values('time',inplace=True)\n",
    "    \n",
    "    xpred = temp[['time','pH','propionicAcidmM']].values\n",
    "    mu,cov = gp.predict(xpred,full_cov=True)\n",
    "\n",
    "    l = scipy.stats.multivariate_normal.logpdf(temp.od, mu[:,0], cov)\n",
    "    \n",
    "    diff = temp.od-mu[:,0]\n",
    "    ts = np.dot(diff, np.dot(np.linalg.inv(cov), diff))\n",
    "    p = 1-scipy.stats.chi2.cdf(ts, df=mu.shape[0])\n",
    "    \n",
    "    ll.append((k, l, ts, p))"
   ]
  },
  {
   "cell_type": "code",
   "execution_count": null,
   "metadata": {
    "collapsed": false
   },
   "outputs": [],
   "source": [
    "ll = pd.DataFrame(ll, columns=['design','ll', 'testStatistic','pval'])\n",
    "ll.head()"
   ]
  },
  {
   "cell_type": "code",
   "execution_count": null,
   "metadata": {
    "collapsed": false
   },
   "outputs": [],
   "source": [
    "ll.ll.hist(bins=20)\n",
    "plt.savefig(\"figures/lund/ecoli-outliers-loglikelihood.pdf\")"
   ]
  },
  {
   "cell_type": "code",
   "execution_count": null,
   "metadata": {
    "collapsed": false
   },
   "outputs": [],
   "source": [
    "ll.pval.hist(bins=20)\n",
    "plt.savefig(\"figures/lund/ecoli-outliers-pvals.pdf\")"
   ]
  },
  {
   "cell_type": "code",
   "execution_count": null,
   "metadata": {
    "collapsed": false
   },
   "outputs": [],
   "source": [
    "phVals = np.unique(xgp[:,1]).tolist()\n",
    "paVals = np.unique(xgp[:,2]).tolist()\n",
    "\n",
    "cmap = plt.get_cmap()\n",
    "\n",
    "fig = plt.figure(figsize=(5*len(paVals), 5*len(phVals)))\n",
    "\n",
    "for i, r in ll.iterrows():\n",
    "    design, l = r.design, r.ll\n",
    "    ph, pa, rep = design\n",
    "    \n",
    "    plt.subplot(len(phVals), len(paVals), phVals.index(ph)*len(paVals) + paVals.index(pa) + 1)\n",
    "    plt.title((ph,pa),fontsize=20)\n",
    "    \n",
    "    temp = g.get_group(design)\n",
    "    temp.sort_values('time',inplace=True)\n",
    "    plt.plot(temp.time,temp.od,color=cmap((l-ll.ll.min())/(ll.ll.max()-ll.ll.min())))\n",
    "    \n",
    "fig.subplots_adjust(right=0.84)\n",
    "cbar_ax = fig.add_axes([0.85, 0.15, 0.05, 0.7])\n",
    "\n",
    "norm = mpl.colors.Normalize(vmin=ll.ll.min(), vmax=ll.ll.max())\n",
    "cb = mpl.colorbar.ColorbarBase(cbar_ax, cmap=cmap,\n",
    "                                norm=norm,\n",
    "                                orientation='vertical')\n",
    "cb.set_label('Log-likelihood',fontsize=20)\n",
    "[t.set_fontsize(20) for t in cb.ax.get_yticklabels()]\n",
    "\n",
    "plt.savefig('figures/lund/ecoli-outliers-byLL.pdf',bbox_inches='tight')"
   ]
  },
  {
   "cell_type": "code",
   "execution_count": null,
   "metadata": {
    "collapsed": false
   },
   "outputs": [],
   "source": [
    "phVals = np.unique(xgp[:,1]).tolist()\n",
    "paVals = np.unique(xgp[:,2]).tolist()\n",
    "\n",
    "cmap = plt.get_cmap()\n",
    "\n",
    "for thresh in [-5000, -1000, -500]:\n",
    "\n",
    "    fig = plt.figure(figsize=(5*len(paVals), 5*len(phVals)))\n",
    "\n",
    "    for i, r in ll.iterrows():\n",
    "        design, l = r.design, r.ll\n",
    "        ph, pa, rep = design\n",
    "\n",
    "        plt.subplot(len(phVals), len(paVals), phVals.index(ph)*len(paVals) + paVals.index(pa) + 1)\n",
    "        plt.title((ph,pa),fontsize=20)\n",
    "        \n",
    "        c='r'\n",
    "        if l > thresh:\n",
    "            c = 'k'\n",
    "\n",
    "        temp = g.get_group(design)\n",
    "        temp.sort_values('time',inplace=True)\n",
    "        plt.plot(temp.time,temp.od,color=c)\n",
    "\n",
    "    plt.savefig('figures/lund/ecoli-outliers-byLL-thresh%d.pdf'%thresh,bbox_inches='tight')"
   ]
  },
  {
   "cell_type": "code",
   "execution_count": null,
   "metadata": {
    "collapsed": false
   },
   "outputs": [],
   "source": [
    "phVals = np.unique(xgp[:,1]).tolist()\n",
    "paVals = np.unique(xgp[:,2]).tolist()\n",
    "\n",
    "cmap = plt.get_cmap()\n",
    "\n",
    "fig = plt.figure(figsize=(5*len(paVals), 5*len(phVals)))\n",
    "\n",
    "for i, r in ll.iterrows():\n",
    "    design, l = r.design, r.pval\n",
    "    ph, pa, rep = design\n",
    "    \n",
    "    plt.subplot(len(phVals), len(paVals), phVals.index(ph)*len(paVals) + paVals.index(pa) + 1)\n",
    "    plt.title((ph,pa),fontsize=20)\n",
    "    \n",
    "    temp = g.get_group(design)\n",
    "    temp.sort_values('time',inplace=True)\n",
    "    plt.plot(temp.time,temp.od,color=cmap(l))\n",
    "    \n",
    "fig.subplots_adjust(right=0.84)\n",
    "cbar_ax = fig.add_axes([0.85, 0.15, 0.05, 0.7])\n",
    "\n",
    "norm = mpl.colors.Normalize(vmin=0, vmax=1)\n",
    "cb = mpl.colorbar.ColorbarBase(cbar_ax, cmap=cmap,\n",
    "                                norm=norm,\n",
    "                                orientation='vertical')\n",
    "cb.set_label('Log-likelihood',fontsize=20)\n",
    "[t.set_fontsize(20) for t in cb.ax.get_yticklabels()]\n",
    "\n",
    "plt.savefig('figures/lund/ecoli-outliers-byPval.pdf',bbox_inches='tight')"
   ]
  },
  {
   "cell_type": "code",
   "execution_count": null,
   "metadata": {
    "collapsed": false
   },
   "outputs": [],
   "source": [
    "phVals = np.unique(xgp[:,1]).tolist()\n",
    "paVals = np.unique(xgp[:,2]).tolist()\n",
    "\n",
    "cmap = plt.get_cmap()\n",
    "\n",
    "fig = plt.figure(figsize=(5*len(paVals), 5*len(phVals)))\n",
    "\n",
    "for i, r in ll.iterrows():\n",
    "    design, l = r.design, -np.log10(r.pval+1e-15)\n",
    "    ph, pa, rep = design\n",
    "    \n",
    "    plt.subplot(len(phVals), len(paVals), phVals.index(ph)*len(paVals) + paVals.index(pa) + 1)\n",
    "    plt.title((ph,pa),fontsize=20)\n",
    "    \n",
    "    temp = g.get_group(design)\n",
    "    temp.sort_values('time',inplace=True)\n",
    "    plt.plot(temp.time,temp.od,color=cmap(l))\n",
    "    \n",
    "fig.subplots_adjust(right=0.84)\n",
    "cbar_ax = fig.add_axes([0.85, 0.15, 0.05, 0.7])\n",
    "\n",
    "norm = mpl.colors.Normalize(vmin=0, vmax=15)\n",
    "cb = mpl.colorbar.ColorbarBase(cbar_ax, cmap=cmap,\n",
    "                                norm=norm,\n",
    "                                orientation='vertical')\n",
    "cb.set_label('Log-likelihood',fontsize=20)\n",
    "[t.set_fontsize(20) for t in cb.ax.get_yticklabels()]\n",
    "\n",
    "plt.savefig('figures/lund/ecoli-outliers-byPvalLog10.pdf',bbox_inches='tight')"
   ]
  },
  {
   "cell_type": "code",
   "execution_count": null,
   "metadata": {
    "collapsed": false
   },
   "outputs": [],
   "source": [
    "l"
   ]
  },
  {
   "cell_type": "code",
   "execution_count": null,
   "metadata": {
    "collapsed": true
   },
   "outputs": [],
   "source": []
  },
  {
   "cell_type": "code",
   "execution_count": null,
   "metadata": {
    "collapsed": true
   },
   "outputs": [],
   "source": []
  },
  {
   "cell_type": "code",
   "execution_count": null,
   "metadata": {
    "collapsed": false
   },
   "outputs": [],
   "source": [
    "for ph in np.unique(xgp[:,1]):\n",
    "\n",
    "    xpred[:,1] = ph\n",
    "\n",
    "    mu,var = gp.predict_noiseless(xpred, kern=kern.pH)\n",
    "    mu = mu[:,0]\n",
    "    var = var[:,0]\n",
    "    std = np.sqrt(var)\n",
    "\n",
    "    plt.plot(xpred[:,0],mu, label = np.round(10**ph,1),c=color)\n",
    "    #plt.fill_between(xpred[:,0], mu-2*std, mu+2*std,alpha=.1,color=color)"
   ]
  },
  {
   "cell_type": "code",
   "execution_count": null,
   "metadata": {
    "collapsed": false
   },
   "outputs": [],
   "source": [
    "for pa in np.unique(xgp[:,2]):\n",
    "\n",
    "    xpred[:,2] = pa\n",
    "\n",
    "    mu,var = gp.predict_noiseless(xpred, kern=kern.PA)\n",
    "    mu = mu[:,0]\n",
    "    var = var[:,0]\n",
    "    std = np.sqrt(var)\n",
    "\n",
    "    plt.plot(xpred[:,0],mu, label = np.round(10**ph,1),c=color)\n",
    "    #plt.fill_between(xpred[:,0], mu-2*std, mu+2*std,alpha=.1,color=color)"
   ]
  },
  {
   "cell_type": "code",
   "execution_count": null,
   "metadata": {
    "collapsed": false
   },
   "outputs": [],
   "source": [
    "# plt.figure(figsize=(12*4,7*4))\n",
    "\n",
    "# for i,ph in enumerate(np.unique(xgp[:,1])):\n",
    "#     for j,pa in enumerate(np.unique(xgp[:,2])):\n",
    "        \n",
    "#         plt.subplot(7,12,i*12+j+1)\n",
    "#         plt.title(\"pH %.2lf, %.2lf mM PA\"%(10**ph,10**pa-1e-1))\n",
    "\n",
    "#         xpred[:,1] = ph\n",
    "#         xpred[:,2] = pa\n",
    "\n",
    "#         mu,var = gp.predict_noiseless(xpred, kern=kern.interaction)\n",
    "#         mu = mu[:,0]\n",
    "#         var = var[:,0]\n",
    "#         std = np.sqrt(var)\n",
    "\n",
    "#         plt.plot(xpred[:,0],mu, label = np.round(10**ph,1))\n",
    "#         plt.fill_between(xpred[:,0], mu-2*std, mu+2*std,alpha=.1)\n",
    "        \n",
    "#         plt.plot([x.min(),x.max()],[0,0],c='k',lw=3)\n",
    "#         plt.ylim(-2.6,2.6)\n",
    "        \n",
    "# plt.tight_layout()"
   ]
  },
  {
   "cell_type": "code",
   "execution_count": null,
   "metadata": {
    "collapsed": false
   },
   "outputs": [],
   "source": [
    "# plt.figure(figsize=(12*4,7*4))\n",
    "\n",
    "# basePh = np.unique(xgp[:,1]).max()\n",
    "# basePa = np.unique(xgp[:,2]).min()\n",
    "\n",
    "# phVals = np.unique(xgp[:,1])\n",
    "# phVals = phVals[phVals!=basePh]\n",
    "\n",
    "# paVals = np.unique(xgp[:,2])\n",
    "# paVals = paVals[paVals!=basePa]\n",
    "\n",
    "# xpred = np.zeros((200,3))\n",
    "# xpred[:,0] = np.tile(np.linspace(x.min(),x.max()),4)\n",
    "\n",
    "# op = np.zeros((50,200))\n",
    "# for i in range(50):\n",
    "#     #op[i,i] = 1\n",
    "#     #op[i,50+i::50] = -1\n",
    "#     op[i,i::50] = [1,-1,-1,1]\n",
    "\n",
    "# for i,ph in enumerate(phVals):\n",
    "#     for j,pa in enumerate(paVals):\n",
    "        \n",
    "#         plt.subplot(7,12,i*12+j+1)\n",
    "#         plt.title(\"pH %.2lf, %.2lf mM PA\"%(10**ph,10**pa-1e-1))\n",
    "        \n",
    "#         xpred[:,1] = np.repeat([ph,ph,basePh,basePh], 50)\n",
    "#         xpred[:,2] = np.repeat([pa,basePa,pa,basePa], 50)\n",
    "\n",
    "#         mu,cov = gp.predict_noiseless(xpred, kern=kern.interaction, full_cov=True)\n",
    "        \n",
    "#         mu = np.dot(op, mu)\n",
    "#         cov = np.dot(op, np.dot(cov, op.T))\n",
    "                \n",
    "#         mu = mu[:,0]\n",
    "#         std = np.sqrt(cov.diagonal())\n",
    "\n",
    "#         plt.plot(xpred[:50,0],mu, label = np.round(10**ph,1))\n",
    "#         plt.fill_between(xpred[:50,0], mu-2*std, mu+2*std,alpha=.1)\n",
    "        \n",
    "#         plt.plot([x.min(),x.max()],[0,0],c='k',lw=3)\n",
    "#         plt.ylim(-4.8,4.8)\n",
    "        \n",
    "# plt.tight_layout()\n"
   ]
  },
  {
   "cell_type": "code",
   "execution_count": null,
   "metadata": {
    "collapsed": false
   },
   "outputs": [],
   "source": [
    "# mu = np.zeros(xpred.shape[0])\n",
    "# var = np.zeros(xpred.shape[0])\n",
    "# for k in [kern.mean, kern.pH, kern.PA, kern.interaction]:\n",
    "#     mutemp,vartemp = gp.predict_noiseless(xpred, kern=k)\n",
    "    \n",
    "#     mu += mutemp[:,0]\n",
    "#     var += vartemp[:,0]\n",
    "    \n",
    "# plt.plot(xpred[:,0],mu)\n",
    "# std = np.sqrt(var)\n",
    "# #plt.fill_between(xpred[:,0], mu-2*std, mu+2*std,alpha=.1,color=color)\n",
    "# mu,var = gp.predict_noiseless(xpred)\n",
    "# mu = mu[:,0]\n",
    "# var = var[:,0]\n",
    "# plt.plot(xpred[:,0],mu)\n",
    "# std = np.sqrt(var)\n",
    "# plt.fill_between(xpred[:,0], mu-2*std, mu+2*std,alpha=.1,color=color)"
   ]
  },
  {
   "cell_type": "code",
   "execution_count": null,
   "metadata": {
    "collapsed": false
   },
   "outputs": [],
   "source": [
    "# kern = RBF(1, name='mean') + RBF(2,active_dims=[0,1],name='pH',ARD=True) + RBF(2,active_dims=[0,2],name='PA',ARD=True) + RBF(3,name='interaction',ARD=True)\n",
    "kerncopy = kern.copy()\n",
    "\n",
    "kerncopy"
   ]
  },
  {
   "cell_type": "code",
   "execution_count": null,
   "metadata": {
    "collapsed": true
   },
   "outputs": [],
   "source": [
    "class RBFDerivative(RBF):\n",
    "    \n",
    "    def K(self,X,X2):\n",
    "        k = super(RBFDerivative, self).K(X,X2)\n",
    "        if X2 is None:\n",
    "            diff = np.zeros((X.shape[0],X.shape[0]))\n",
    "            for i in range(X.shape[0]):\n",
    "                for j in range(X.shape[0]):\n",
    "                    diff[i,j] = X[i,0] - X[j,0]\n",
    "                    #diff[i,j] = -X[i,0] + X[j,0]\n",
    "            \n",
    "            return (1./(self.lengthscale[0]))*(1-(1./(self.lengthscale[0]))*(diff**2))*k\n",
    "            #return k * (-1./(self.lengthscale[0]))*diff\n",
    "        else:\n",
    "            #X2 is derivative obs\n",
    "            \n",
    "            diff = np.zeros((X.shape[0],X2.shape[0]))\n",
    "            for i in range(X.shape[0]):\n",
    "                for j in range(X2.shape[0]):\n",
    "                    diff[i,j] = X[i,0] - X2[j,0]\n",
    "                    #diff[i,j] = -X[i,0] + X[j,0]\n",
    "                    \n",
    "            return k * (1./(self.lengthscale[0]))*diff        \n",
    "            #return (1./(self.lengthscale[0]))*(1-(1./(self.lengthscale[0]))*(diff**2))*k"
   ]
  },
  {
   "cell_type": "code",
   "execution_count": null,
   "metadata": {
    "collapsed": false
   },
   "outputs": [],
   "source": [
    "# kernDeriv = RBFDerivative(1, variance=kern.mean.variance.copy(), lengthscale = kern.mean.lengthscale.copy()) +\\\n",
    "#             RBFDerivative(2, ARD=True, variance=kern.pH.variance.copy(), lengthscale = kern.pH.lengthscale.copy()) +\\\n",
    "#             RBFDerivative(2, ARD=True, active_dims=[0,2], variance=kern.PA.variance.copy(), lengthscale = kern.PA.lengthscale.copy()) +\\\n",
    "#             RBFDerivative(3, ARD=True, variance=kern.interaction.variance.copy(), lengthscale = kern.interaction.lengthscale.copy())\n",
    "kernDeriv = RBFDerivative(3, ARD=True, variance=kern.variance.copy(), lengthscale = kern.lengthscale.copy())\n",
    "kernDeriv"
   ]
  },
  {
   "cell_type": "code",
   "execution_count": null,
   "metadata": {
    "collapsed": false
   },
   "outputs": [],
   "source": [
    "kern"
   ]
  },
  {
   "cell_type": "code",
   "execution_count": null,
   "metadata": {
    "collapsed": false
   },
   "outputs": [],
   "source": [
    "K = kernDeriv.K(xgp[:1000,:], xgp[:1000,:])\n",
    "\n",
    "plt.figure(figsize=(6,6))\n",
    "plt.imshow(K)\n",
    "plt.colorbar()"
   ]
  },
  {
   "cell_type": "code",
   "execution_count": null,
   "metadata": {
    "collapsed": false
   },
   "outputs": [],
   "source": [
    "K = kernDeriv.K(xgp[:100,:])\n",
    "\n",
    "plt.figure(figsize=(6,6))\n",
    "plt.imshow(K)\n",
    "plt.colorbar()"
   ]
  },
  {
   "cell_type": "code",
   "execution_count": null,
   "metadata": {
    "collapsed": false
   },
   "outputs": [],
   "source": [
    "plt.figure(figsize=(np.unique(xgp[:,2]).shape[0]*5./3, 5*3))\n",
    "\n",
    "for i,ph in enumerate(np.unique(xgp[:,1])):\n",
    "    for j,pa in enumerate(np.unique(xgp[:,2])):\n",
    "        \n",
    "        plt.subplot(3, np.unique(xgp[:,2]).shape[0]/3+1, j + 1)\n",
    "        \n",
    "        plt.title(\"%.2lf mM PA\"%((pa)))\n",
    "        \n",
    "        xpred[:,1:] = ph, pa\n",
    "\n",
    "        mu,cov = gp.predict_noiseless(xpred,full_cov=False,kern=kernDeriv)\n",
    "        mu = mu[:,0]\n",
    "\n",
    "        cov = cov[:,0]\n",
    "        std = np.sqrt(cov)\n",
    "        \n",
    "        color = plt.get_cmap()(1.*(ph-4)/3)\n",
    "\n",
    "        plt.plot(xpred[:,0],mu, label = ph,c=color)\n",
    "        plt.fill_between(xpred[:,0], mu-2*std, mu+2*std,alpha=.1,color=color)\n",
    "        \n",
    "        #select = g.get_group((np.round(10**ph,2),pa)).index\n",
    "        #plt.scatter(x,np.nanmean(y[:,select],1),c=color,marker='x',s=20)\n",
    "        \n",
    "        plt.ylim(-3.4,6.4)\n",
    "        plt.ylabel(\"d logOD / dt\")\n",
    "\n",
    "        \n",
    "plt.subplot(3, np.unique(xgp[:,2]).shape[0]/3+1,1)\n",
    "plt.legend(loc='best')\n",
    "plt.tight_layout()\n",
    "plt.savefig(\"figures/lund/ecoli-gp-byPA-derivative.pdf\",bbox_inches='tight')"
   ]
  },
  {
   "cell_type": "code",
   "execution_count": null,
   "metadata": {
    "collapsed": false
   },
   "outputs": [],
   "source": [
    "plt.figure(figsize=(np.unique(xgp[:,1]).shape[0]*5./3, 5*3))\n",
    "\n",
    "for i,ph in enumerate(np.unique(xgp[:,1])[::-1]):\n",
    "    for j,pa in enumerate(np.unique(xgp[:,2])):\n",
    "        \n",
    "        plt.subplot(3, np.unique(xgp[:,1]).shape[0]/3+1, i + 1)\n",
    "        \n",
    "        plt.title(\"ph=%.2lf\"%(ph))\n",
    "        \n",
    "        xpred[:,1:] = ph, pa\n",
    "\n",
    "        mu,cov = gp.predict_noiseless(xpred,full_cov=False,kern=kernDeriv)\n",
    "        mu = mu[:,0]\n",
    "        cov = cov[:,0]\n",
    "        std = np.sqrt(cov)\n",
    "        \n",
    "        color = plt.get_cmap()(1.*(pa)/50)\n",
    "\n",
    "        plt.plot(xpred[:,0],mu, label = pa ,c=color)\n",
    "        plt.fill_between(xpred[:,0], mu-2*std, mu+2*std,alpha=.1,color=color)\n",
    "        \n",
    "        plt.ylim(-3.4,6.4)\n",
    "        plt.ylabel(\"d logOD / dt\")\n",
    "\n",
    "        \n",
    "plt.subplot(3, np.unique(xgp[:,1]).shape[0]/3+1,1)\n",
    "plt.legend(loc='best')\n",
    "plt.tight_layout()\n",
    "plt.savefig(\"figures/lund/ecoli-gp-byPH-derivative.pdf\",bbox_inches='tight')"
   ]
  },
  {
   "cell_type": "code",
   "execution_count": null,
   "metadata": {
    "collapsed": false
   },
   "outputs": [],
   "source": [
    "phVals = np.unique(xgp[:,1])\n",
    "paVals = np.unique(xgp[:,2])"
   ]
  },
  {
   "cell_type": "code",
   "execution_count": null,
   "metadata": {
    "collapsed": false
   },
   "outputs": [],
   "source": [
    "xpred = np.zeros((phVals.shape[0]*paVals.shape[0], 3))\n",
    "xpred[:,1] = np.repeat(phVals, paVals.shape[0])\n",
    "xpred[:,2] = np.tile(paVals, phVals.shape[0])\n",
    "\n",
    "plt.figure(figsize=(15,5))\n",
    "\n",
    "ntp = 10\n",
    "nrow = 2\n",
    "ncol = ntp/nrow\n",
    "\n",
    "for i,xtemp in enumerate(np.linspace(melt.time.min(),melt.time.max(), ntp)):\n",
    "    xpred[:,0] = xtemp\n",
    "\n",
    "    mu,cov = gp.predict_noiseless(xpred,kern=kernDeriv)\n",
    "    mu = mu[:,0]\n",
    "    cov = cov[:,0]\n",
    "    std = np.sqrt(cov)\n",
    "\n",
    "    mu = mu.reshape((phVals.shape[0], paVals.shape[0]))\n",
    "\n",
    "    plt.subplot2grid((2,1+4*ncol),(i/ncol, (i%ncol)*4),colspan=4)\n",
    "    plt.imshow(mu,vmax=6.4,vmin=-6.4,cmap='PRGn')\n",
    "    im = plt.title(\"time=%.2lf\"%xtemp)\n",
    "    \n",
    "    plt.yticks(range(0,phVals.shape[0]), phVals[::].astype(str))\n",
    "    plt.xticks(range(0,paVals.shape[0],2), (paVals[::2]).astype(str))\n",
    "    \n",
    "ax = plt.subplot2grid((2,1+4*ncol),(0,4*ncol),rowspan=nrow)\n",
    "plt.colorbar(cax=ax)\n",
    "    \n",
    "plt.tight_layout()\n",
    "\n",
    "plt.savefig(\"figures/lund/ecoli-gp-derivative-vsPaPh-byTime.pdf\")"
   ]
  },
  {
   "cell_type": "code",
   "execution_count": null,
   "metadata": {
    "collapsed": false
   },
   "outputs": [],
   "source": [
    "phVals"
   ]
  },
  {
   "cell_type": "code",
   "execution_count": null,
   "metadata": {
    "collapsed": false
   },
   "outputs": [],
   "source": [
    "xpred = np.zeros((50,3))\n",
    "xpred[:,0] = 3#melt.time.min()\n",
    "xpred[:,1] = np.linspace(phVals[0], phVals[-1])\n",
    "\n",
    "plt.figure(figsize=(10,8))\n",
    "for pa in paVals:\n",
    "# xpred[:,2] = np.log10(ds.meta.propionicAcidmM.unique()+1e-1)[0]\n",
    "    xpred[:,2] = pa\n",
    "\n",
    "    mu,cov = gp.predict_noiseless(xpred,kern=kernDeriv)\n",
    "    mu = mu[:,0]\n",
    "    cov = cov[:,0]\n",
    "    std = np.sqrt(cov)\n",
    "\n",
    "    color = plt.get_cmap()(((pa))/50)\n",
    "    \n",
    "    plt.plot(xpred[:,1],mu,color=color,label=pa)\n",
    "    plt.fill_between(xpred[:,1],mu-2*std,mu+2*std,alpha=.1,color=color)\n",
    "    \n",
    "plt.scatter(phVals,[0]*phVals.shape[0],marker='x',c='k')\n",
    "plt.plot([phVals.min(), phVals.max()],[0,0],c='k')\n",
    "\n",
    "plt.legend(loc='best')\n",
    "plt.tight_layout()\n",
    "plt.savefig(\"figures/lund/ecoli-gp-derivative-vsPh-byPa.pdf\")"
   ]
  },
  {
   "cell_type": "code",
   "execution_count": null,
   "metadata": {
    "collapsed": false
   },
   "outputs": [],
   "source": [
    "xpred = np.zeros((50,3))\n",
    "xpred[:,0] = 3#melt.time.min()\n",
    "xpred[:,2] = np.linspace(paVals[0], paVals[-1])\n",
    "\n",
    "plt.figure(figsize=(10,8))\n",
    "for pa in phVals:\n",
    "# xpred[:,2] = np.log10(ds.meta.propionicAcidmM.unique()+1e-1)[0]\n",
    "    xpred[:,1] = pa\n",
    "\n",
    "    mu,cov = gp.predict_noiseless(xpred,kern=kernDeriv)\n",
    "    mu = mu[:,0]\n",
    "    cov = cov[:,0]\n",
    "    std = np.sqrt(cov)\n",
    "\n",
    "    color = plt.get_cmap()(((pa-3))/4)\n",
    "    \n",
    "    plt.plot(xpred[:,2],mu,color=color,label=pa)\n",
    "    plt.fill_between(xpred[:,2],mu-2*std,mu+2*std,alpha=.1,color=color)\n",
    "    \n",
    "plt.scatter(paVals,[0]*paVals.shape[0],marker='x',c='k')\n",
    "plt.plot([paVals.min(), paVals.max()],[0,0],c='k')\n",
    "\n",
    "plt.legend(loc='best')\n",
    "plt.tight_layout()\n",
    "plt.savefig(\"figures/lund/ecoli-gp-derivative-vsPa-byPh.pdf\")"
   ]
  },
  {
   "cell_type": "code",
   "execution_count": null,
   "metadata": {
    "collapsed": false
   },
   "outputs": [],
   "source": [
    "ds = gpfanova.dataset.DataSet('data/normalized/lund/ecoli-replicate/')\n",
    "\n",
    "temp = ds.meta.position.str.extract('([A-Z]?)([0-9]{1,2})\\.?[0-9]?')\n",
    "temp.columns = ['row','column']\n",
    "\n",
    "row = None\n",
    "for i,r in temp.iterrows():\n",
    "    if r.row != '':\n",
    "        row = r.row\n",
    "    else:\n",
    "         temp.loc[i,'row'] = row\n",
    "            \n",
    "ds.meta = temp\n",
    "\n",
    "x,y,effect,labels = ds.build(effects=['row','column'],scale='range')\n",
    "# y = (y-y.mean())/y.std()\n",
    "\n",
    "dm = np.ones((y.shape[1],1))"
   ]
  },
  {
   "cell_type": "code",
   "execution_count": null,
   "metadata": {
    "collapsed": false
   },
   "outputs": [],
   "source": [
    "effect"
   ]
  }
 ],
 "metadata": {
  "git": {
   "suppress_outputs": true
  },
  "kernelspec": {
   "display_name": "Python 2",
   "language": "python",
   "name": "python2"
  },
  "language_info": {
   "codemirror_mode": {
    "name": "ipython",
    "version": 2
   },
   "file_extension": ".py",
   "mimetype": "text/x-python",
   "name": "python",
   "nbconvert_exporter": "python",
   "pygments_lexer": "ipython2",
   "version": "2.7.6"
  }
 },
 "nbformat": 4,
 "nbformat_minor": 1
}