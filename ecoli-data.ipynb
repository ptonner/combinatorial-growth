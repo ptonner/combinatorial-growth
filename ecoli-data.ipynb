{
 "cells": [
  {
   "cell_type": "code",
   "metadata": {
    "collapsed": false
   },
   "outputs": [],
   "source": [
    "import scipy, GPy, popmachine\n",
    "from GPy.kern import RBF\n",
    "from derivative import RBFDerivative\n",
    "import pandas as pd"
   ]
  },
  {
   "cell_type": "code",
   "metadata": {
    "collapsed": false
   },
   "outputs": [],
   "source": [
    "%pylab"
   ]
  },
  {
   "cell_type": "code",
   "metadata": {
    "collapsed": true
   },
   "outputs": [],
   "source": [
    "%matplotlib inline"
   ]
  },
  {
   "cell_type": "code",
   "metadata": {
    "collapsed": false
   },
   "outputs": [],
   "source": [
    "m = popmachine.machine.Machine()\n",
    "\n",
    "for p in m.list(popmachine.models.Plate):\n",
    "    print p"
   ]
  },
  {
   "cell_type": "code",
   "metadata": {
    "collapsed": false
   },
   "outputs": [],
   "source": [
    "ds = m.search(plates=['ecoli-eo499-propionicAcid-1'],include=['pH', 'propionicAcidmM', 'rep'], )\n",
    "ds.data.shape"
   ]
  },
  {
   "cell_type": "code",
   "metadata": {
    "collapsed": false
   },
   "outputs": [],
   "source": [
    "ds.trim(3)\n",
    "ds.data.shape"
   ]
  },
  {
   "cell_type": "code",
   "metadata": {
    "collapsed": false
   },
   "outputs": [],
   "source": [
    "ds.log()"
   ]
  },
  {
   "cell_type": "code",
   "metadata": {
    "collapsed": false
   },
   "outputs": [],
   "source": [
    "melt = ds.melt()\n",
    "melt.head()"
   ]
  },
  {
   "cell_type": "code",
   "metadata": {
    "collapsed": false
   },
   "outputs": [],
   "source": [
    "plt.figure(figsize=(20,20))\n",
    "\n",
    "g = melt.groupby(['pH','propionicAcidmM'])\n",
    "\n",
    "for i, ph in enumerate(melt.pH.unique()):\n",
    "    for j, pa in enumerate(melt.propionicAcidmM.unique()):\n",
    "        temp = g.get_group((ph,pa))\n",
    "        \n",
    "        plt.subplot(melt.pH.unique().shape[0],melt.propionicAcidmM.unique().shape[0],i*melt.propionicAcidmM.unique().shape[0]+j+1)\n",
    "        plt.title(\"pH=%.2lf,\\nPAmM=%.2lf\"%(ph, pa))\n",
    "        \n",
    "        g2 = temp.groupby('rep')\n",
    "        for j,temp2 in g2:\n",
    "            plt.plot(temp2.time, temp2.od)\n",
    "        \n",
    "        plt.ylim(np.nanmin(melt.od.values),np.nanmax(melt.od.values))\n",
    "        \n",
    "plt.tight_layout()"
   ]
  },
  {
   "cell_type": "code",
   "metadata": {
    "collapsed": false
   },
   "outputs": [],
   "source": [
    "plt.figure(figsize=(20,20))\n",
    "\n",
    "g = melt.groupby(['pH','propionicAcidmM'])\n",
    "\n",
    "for i, ph in enumerate(melt.pH.unique()):\n",
    "    for j, pa in enumerate(melt.propionicAcidmM.unique()):\n",
    "        temp = g.get_group((ph,pa))\n",
    "        \n",
    "        plt.subplot(melt.pH.unique().shape[0],melt.propionicAcidmM.unique().shape[0],i*melt.propionicAcidmM.unique().shape[0]+j+1)\n",
    "        plt.title(\"pH=%.2lf,\\nPAmM=%.2lf\"%(ph, pa))\n",
    "        \n",
    "        g2 = temp.groupby('rep')\n",
    "        for j,temp2 in g2:\n",
    "            plt.plot(temp2.time, temp2.od)\n",
    "        \n",
    "        plt.ylim(melt.od.min(),melt.od.max())\n",
    "        \n",
    "plt.tight_layout()\n",
    "\n",
    "plt.savefig(\"figures/lund/ecoli.pdf\",dpi=300,bbox_inches='tight')"
   ]
  },
  {
   "cell_type": "code",
   "metadata": {
    "collapsed": false
   },
   "outputs": [],
   "source": [
    "nrow,ncol = 3,4\n",
    "plt.figure(figsize=(20,15))\n",
    "\n",
    "g = melt.groupby(['pH','propionicAcidmM'])\n",
    "\n",
    "for i, ph in enumerate(melt.pH.unique()):\n",
    "    for j, pa in enumerate(melt.propionicAcidmM.unique()):\n",
    "        temp = g.get_group((ph,pa))\n",
    "        temp = temp.pivot('time', 'rep', 'od')\n",
    "        \n",
    "        plt.subplot(nrow,ncol,j+1)\n",
    "        plt.title(\"PAmM=%.2lf\"%(pa),fontsize=20)\n",
    "        \n",
    "        color = (ph-4)/3\n",
    "        \n",
    "        #plt.plot(temp.index, temp,c=plt.get_cmap()(color))\n",
    "        plt.plot(temp.index, temp.median(1),c=plt.get_cmap()(color))\n",
    "        plt.fill_between(temp.index, temp.min(1), temp.max(1),color=plt.get_cmap()(color),alpha=.4,label=ph)\n",
    "        \n",
    "        plt.ylim(melt.od.min(),melt.od.max())\n",
    "        \n",
    "        plt.xticks(fontsize=16)\n",
    "        plt.yticks(fontsize=16)\n",
    "        \n",
    "plt.tight_layout()\n",
    "\n",
    "plt.subplot(nrow,ncol,1)\n",
    "plt.legend(loc='best')\n",
    "\n",
    "for c in range(ncol):\n",
    "    plt.subplot(nrow,ncol,(nrow-1)*ncol+c+1)\n",
    "    plt.xlabel(\"time (h)\", fontsize=16)\n",
    "    \n",
    "for r in range(nrow):\n",
    "    plt.subplot(nrow,ncol,r*ncol+1)\n",
    "    plt.ylabel(\"log(OD)\", fontsize=16)\n",
    "\n",
    "# plt.savefig(\"figures/lund/ecoli-shaded.pdf\",dpi=300,bbox_inches='tight')"
   ]
  },
  {
   "cell_type": "code",
   "metadata": {
    "collapsed": false
   },
   "outputs": [],
   "source": [
    "plt.figure(figsize=(20,8))\n",
    "plt.subplot(211)\n",
    "plt.plot(melt[['time','pH','propionicAcidmM']])\n",
    "\n",
    "plt.subplot(212)\n",
    "plt.plot(melt.od)"
   ]
  },
  {
   "cell_type": "code",
   "metadata": {
    "collapsed": true
   },
   "outputs": [],
   "source": [
    "melt.to_csv(\"data/normalized/lund/propionicAcid-ecoli/tidy.csv\",index=False)"
   ]
  },
  {
   "cell_type": "code",
   "metadata": {
    "collapsed": true
   },
   "outputs": [],
   "source": []
  }
 ],
 "metadata": {
  "git": {
   "suppress_outputs": true
  },
  "kernelspec": {
   "display_name": "Python 2",
   "language": "python",
   "name": "python2"
  },
  "language_info": {
   "codemirror_mode": {
    "name": "ipython",
    "version": 2
   },
   "file_extension": ".py",
   "mimetype": "text/x-python",
   "name": "python",
   "nbconvert_exporter": "python",
   "pygments_lexer": "ipython2",
   "version": "2.7.6"
  }
 },
 "nbformat": 4,
 "nbformat_minor": 1
}